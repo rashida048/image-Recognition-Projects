{
 "cells": [
  {
   "cell_type": "code",
   "execution_count": 1,
   "metadata": {},
   "outputs": [
    {
     "name": "stdout",
     "output_type": "stream",
     "text": [
      "1.14.0\n"
     ]
    }
   ],
   "source": [
    "import tensorflow as tf\n",
    "print(tf.__version__)\n",
    "mnist = tf.keras.datasets.fashion_mnist\n",
    "(training_images, training_labels), (test_images, test_labels) = mnist.load_data()"
   ]
  },
  {
   "cell_type": "code",
   "execution_count": 3,
   "metadata": {},
   "outputs": [
    {
     "name": "stdout",
     "output_type": "stream",
     "text": [
      "Model: \"sequential\"\n",
      "_________________________________________________________________\n",
      "Layer (type)                 Output Shape              Param #   \n",
      "=================================================================\n",
      "conv2d_1 (Conv2D)            (None, 26, 26, 64)        640       \n",
      "_________________________________________________________________\n",
      "max_pooling2d (MaxPooling2D) (None, 13, 13, 64)        0         \n",
      "_________________________________________________________________\n",
      "conv2d_2 (Conv2D)            (None, 11, 11, 64)        36928     \n",
      "_________________________________________________________________\n",
      "max_pooling2d_1 (MaxPooling2 (None, 5, 5, 64)          0         \n",
      "_________________________________________________________________\n",
      "flatten (Flatten)            (None, 1600)              0         \n",
      "_________________________________________________________________\n",
      "dense (Dense)                (None, 128)               204928    \n",
      "_________________________________________________________________\n",
      "dense_1 (Dense)              (None, 10)                1290      \n",
      "=================================================================\n",
      "Total params: 243,786\n",
      "Trainable params: 243,786\n",
      "Non-trainable params: 0\n",
      "_________________________________________________________________\n",
      "Epoch 1/5\n",
      "60000/60000 [==============================] - 70s 1ms/sample - loss: 0.9083 - acc: 0.6635\n",
      "Epoch 2/5\n",
      "60000/60000 [==============================] - 67s 1ms/sample - loss: 0.6347 - acc: 0.7612\n",
      "Epoch 3/5\n",
      "60000/60000 [==============================] - 68s 1ms/sample - loss: 0.5522 - acc: 0.7947\n",
      "Epoch 4/5\n",
      "60000/60000 [==============================] - 68s 1ms/sample - loss: 0.4970 - acc: 0.8148\n",
      "Epoch 5/5\n",
      "60000/60000 [==============================] - 68s 1ms/sample - loss: 0.4616 - acc: 0.8317\n",
      "10000/10000 [==============================] - 3s 295us/sample - loss: 0.4763 - acc: 0.8257\n"
     ]
    }
   ],
   "source": [
    "training_images = training_images.reshape(60000, 28, 28, 1)\n",
    "training_images = training_images / 255.0\n",
    "test_images = test_images.reshape(10000, 28,28,1)\n",
    "test_images = test_images / 255.0\n",
    "model = tf.keras.models.Sequential([\n",
    "    tf.keras.layers.Conv2D(64, (3,3), activation='relu', input_shape=(28, 28, 1)),\n",
    "    tf.keras.layers.MaxPooling2D(2,2),\n",
    "    tf.keras.layers.Conv2D(64, (3,3), activation='relu'),\n",
    "    tf.keras.layers.MaxPooling2D(2,2),\n",
    "    tf.keras.layers.Flatten(),\n",
    "    tf.keras.layers.Dense(128, activation='relu'),\n",
    "    tf.keras.layers.Dense(10, activation='softmax')\n",
    "])\n",
    "model.compile(optimizer='adam', loss='sparse_categorical_crossentropy', metrics=['accuracy'])\n",
    "model.summary()\n",
    "model.fit(training_images, training_labels, epochs=5)\n",
    "test_loss = model.evaluate(test_images, test_labels)"
   ]
  },
  {
   "cell_type": "code",
   "execution_count": 4,
   "metadata": {},
   "outputs": [],
   "source": [
    "import matplotlib.pyplot as plt\n",
    "f, axarr = plt.subplots(3,4)\n",
    "FIRST_IMAGE=0\n",
    "SECOND_IMAGE=7\n",
    "THIRD_IMAGE=26\n",
    "CONVOLUTION_NUMBER = 1\n",
    "from tensorflow.keras import models\n",
    "layer_outputs = [layer.output for layer in model.layers]\n",
    "activation_model = tf.keras.models.Model(inputs = model.input, outputs = layer_outputs)\n",
    "for x in range(0,4):\n",
    "  f1 = activation_model.predict(test_images[FIRST_IMAGE].reshape(1, 28, 28, 1))[x]\n",
    "  axarr[0,x].imshow(f1[0, : , :, CONVOLUTION_NUMBER], cmap='inferno')\n",
    "  axarr[0,x].grid(False)\n",
    "  f2 = activation_model.predict(test_images[SECOND_IMAGE].reshape(1, 28, 28, 1))[x]\n",
    "  axarr[1,x].imshow(f2[0, : , :, CONVOLUTION_NUMBER], cmap='inferno')\n",
    "  axarr[1,x].grid(False)\n",
    "  f3 = activation_model.predict(test_images[THIRD_IMAGE].reshape(1, 28, 28, 1))[x]\n",
    "  axarr[2,x].imshow(f3[0, : , :, CONVOLUTION_NUMBER], cmap='inferno')\n",
    "  axarr[2,x].grid(False)"
   ]
  },
  {
   "cell_type": "code",
   "execution_count": 5,
   "metadata": {},
   "outputs": [
    {
     "name": "stdout",
     "output_type": "stream",
     "text": [
      "1.14.0\n",
      "Epoch 1/10\n",
      "60000/60000 [==============================] - 36s 603us/sample - loss: 0.1554 - acc: 0.9534\n",
      "Epoch 2/10\n",
      "60000/60000 [==============================] - 33s 552us/sample - loss: 0.0523 - acc: 0.9840\n",
      "Epoch 3/10\n",
      "60000/60000 [==============================] - 33s 546us/sample - loss: 0.0337 - acc: 0.9896\n",
      "Epoch 4/10\n",
      "60000/60000 [==============================] - 32s 534us/sample - loss: 0.0233 - acc: 0.9926\n",
      "Epoch 5/10\n",
      "60000/60000 [==============================] - 32s 531us/sample - loss: 0.0154 - acc: 0.9953\n",
      "Epoch 6/10\n",
      "60000/60000 [==============================] - 32s 526us/sample - loss: 0.0109 - acc: 0.9963 - los\n",
      "Epoch 7/10\n",
      "60000/60000 [==============================] - 31s 522us/sample - loss: 0.0073 - acc: 0.9977\n",
      "Epoch 8/10\n",
      "60000/60000 [==============================] - 31s 521us/sample - loss: 0.0073 - acc: 0.9976\n",
      "Epoch 9/10\n",
      "60000/60000 [==============================] - 32s 526us/sample - loss: 0.0058 - acc: 0.9979\n",
      "Epoch 10/10\n",
      "60000/60000 [==============================] - 32s 536us/sample - loss: 0.0037 - acc: 0.9989\n",
      "10000/10000 [==============================] - 1s 144us/sample - loss: 0.0566 - acc: 0.9864\n",
      "0.9864\n"
     ]
    }
   ],
   "source": [
    "import tensorflow as tf\n",
    "print(tf.__version__)\n",
    "mnist = tf.keras.datasets.mnist\n",
    "(training_images, training_labels), (test_images, test_labels) = mnist.load_data()\n",
    "training_images=training_images.reshape(60000, 28, 28, 1)\n",
    "training_images=training_images / 255.0\n",
    "test_images = test_images.reshape(10000, 28, 28, 1)\n",
    "test_images=test_images/255.0\n",
    "model = tf.keras.models.Sequential([\n",
    "  tf.keras.layers.Conv2D(32, (3,3), activation='relu', input_shape=(28, 28, 1)),\n",
    "  tf.keras.layers.MaxPooling2D(2, 2),\n",
    "  tf.keras.layers.Flatten(),\n",
    "  tf.keras.layers.Dense(128, activation='relu'),\n",
    "  tf.keras.layers.Dense(10, activation='softmax')\n",
    "])\n",
    "model.compile(optimizer='adam', loss='sparse_categorical_crossentropy', metrics=['accuracy'])\n",
    "model.fit(training_images, training_labels, epochs=10)\n",
    "test_loss, test_acc = model.evaluate(test_images, test_labels)\n",
    "print(test_acc)"
   ]
  },
  {
   "cell_type": "code",
   "execution_count": 6,
   "metadata": {},
   "outputs": [],
   "source": [
    "#Changing the convolutions from 32 to 16"
   ]
  },
  {
   "cell_type": "code",
   "execution_count": 9,
   "metadata": {},
   "outputs": [
    {
     "name": "stdout",
     "output_type": "stream",
     "text": [
      "Epoch 1/10\n",
      "60000/60000 [==============================] - 35s 575us/sample - loss: 0.1484 - acc: 0.9565\n",
      "Epoch 2/10\n",
      "60000/60000 [==============================] - 37s 611us/sample - loss: 0.0512 - acc: 0.9840\n",
      "Epoch 3/10\n",
      "60000/60000 [==============================] - 37s 611us/sample - loss: 0.0318 - acc: 0.9904\n",
      "Epoch 4/10\n",
      "60000/60000 [==============================] - 35s 584us/sample - loss: 0.0213 - acc: 0.9932\n",
      "Epoch 5/10\n",
      "60000/60000 [==============================] - 36s 597us/sample - loss: 0.0156 - acc: 0.9949\n",
      "Epoch 6/10\n",
      "60000/60000 [==============================] - 35s 586us/sample - loss: 0.0107 - acc: 0.9964\n",
      "Epoch 7/10\n",
      "60000/60000 [==============================] - 36s 592us/sample - loss: 0.0072 - acc: 0.9977\n",
      "Epoch 8/10\n",
      "60000/60000 [==============================] - 33s 547us/sample - loss: 0.0067 - acc: 0.9978\n",
      "Epoch 9/10\n",
      "60000/60000 [==============================] - 37s 622us/sample - loss: 0.0044 - acc: 0.9986\n",
      "Epoch 10/10\n",
      "60000/60000 [==============================] - 34s 565us/sample - loss: 0.0037 - acc: 0.9989\n",
      "10000/10000 [==============================] - 1s 147us/sample - loss: 0.0609 - acc: 0.9856\n",
      "0.9856\n"
     ]
    }
   ],
   "source": [
    "model = tf.keras.models.Sequential([\n",
    "  tf.keras.layers.Conv2D(32, (3,3), activation='relu', input_shape=(28, 28, 1)),\n",
    "  tf.keras.layers.MaxPooling2D(2, 2),\n",
    "  tf.keras.layers.Flatten(),\n",
    "  tf.keras.layers.Dense(128, activation='relu'),\n",
    "  tf.keras.layers.Dense(10, activation='softmax')\n",
    "])\n",
    "model.compile(optimizer='adam', loss='sparse_categorical_crossentropy', metrics=['accuracy'])\n",
    "model.fit(training_images, training_labels, epochs=10)\n",
    "test_loss, test_acc = model.evaluate(test_images, test_labels)\n",
    "print(test_acc)"
   ]
  },
  {
   "cell_type": "code",
   "execution_count": 8,
   "metadata": {},
   "outputs": [
    {
     "name": "stderr",
     "output_type": "stream",
     "text": [
      "W0815 23:00:04.489353 15256 deprecation.py:323] From C:\\Users\\User\\Anaconda3\\lib\\site-packages\\tensorflow\\python\\ops\\math_grad.py:1250: add_dispatch_support.<locals>.wrapper (from tensorflow.python.ops.array_ops) is deprecated and will be removed in a future version.\n",
      "Instructions for updating:\n",
      "Use tf.where in 2.0, which has the same broadcast rule as np.where\n"
     ]
    },
    {
     "name": "stdout",
     "output_type": "stream",
     "text": [
      "Epoch 1/10\n",
      "60000/60000 [==============================] - 36s 595us/sample - loss: 4.8569 - acc: 0.1011\n",
      "Epoch 2/10\n",
      "60000/60000 [==============================] - 34s 572us/sample - loss: 4.8520 - acc: 0.0987\n",
      "Epoch 3/10\n",
      "60000/60000 [==============================] - 38s 626us/sample - loss: 4.8520 - acc: 0.0987\n",
      "Epoch 4/10\n",
      "60000/60000 [==============================] - 36s 604us/sample - loss: 4.8520 - acc: 0.0987\n",
      "Epoch 5/10\n",
      "60000/60000 [==============================] - 36s 600us/sample - loss: 4.8520 - acc: 0.0987\n",
      "Epoch 6/10\n",
      "60000/60000 [==============================] - 36s 603us/sample - loss: 4.8520 - acc: 0.0987\n",
      "Epoch 7/10\n",
      "60000/60000 [==============================] - 36s 604us/sample - loss: 4.8520 - acc: 0.0987\n",
      "Epoch 8/10\n",
      "60000/60000 [==============================] - 36s 599us/sample - loss: 4.8520 - acc: 0.0987\n",
      "Epoch 9/10\n",
      "60000/60000 [==============================] - 35s 581us/sample - loss: 4.8520 - acc: 0.0987\n",
      "Epoch 10/10\n",
      "60000/60000 [==============================] - 35s 582us/sample - loss: 4.8520 - acc: 0.0987\n",
      "10000/10000 [==============================] - 2s 158us/sample - loss: 4.8520 - acc: 0.0980\n",
      "0.098\n"
     ]
    }
   ],
   "source": [
    "model = tf.keras.models.Sequential([\n",
    "  tf.keras.layers.Conv2D(16, (3,3), activation='relu', input_shape=(28, 28, 1)),\n",
    "  tf.keras.layers.MaxPooling2D(2, 2),\n",
    "  tf.keras.layers.Flatten(),\n",
    "  tf.keras.layers.Dense(128, activation='relu')\n",
    "])\n",
    "model.compile(optimizer='adam', loss='sparse_categorical_crossentropy', metrics=['accuracy'])\n",
    "model.fit(training_images, training_labels, epochs=10)\n",
    "test_loss, test_acc = model.evaluate(test_images, test_labels)\n",
    "print(test_acc)"
   ]
  },
  {
   "cell_type": "code",
   "execution_count": 10,
   "metadata": {},
   "outputs": [],
   "source": [
    "#Adding more convolutions"
   ]
  },
  {
   "cell_type": "code",
   "execution_count": 11,
   "metadata": {},
   "outputs": [
    {
     "name": "stdout",
     "output_type": "stream",
     "text": [
      "Epoch 1/10\n",
      "60000/60000 [==============================] - 35s 585us/sample - loss: 0.1436 - acc: 0.9561\n",
      "Epoch 2/10\n",
      "60000/60000 [==============================] - 33s 544us/sample - loss: 0.0480 - acc: 0.9853\n",
      "Epoch 3/10\n",
      "60000/60000 [==============================] - 33s 553us/sample - loss: 0.0344 - acc: 0.9890\n",
      "Epoch 4/10\n",
      "60000/60000 [==============================] - 34s 560us/sample - loss: 0.0251 - acc: 0.9918\n",
      "Epoch 5/10\n",
      "60000/60000 [==============================] - 36s 600us/sample - loss: 0.0191 - acc: 0.9940\n",
      "Epoch 6/10\n",
      "60000/60000 [==============================] - 36s 606us/sample - loss: 0.0156 - acc: 0.9949\n",
      "Epoch 7/10\n",
      "60000/60000 [==============================] - 37s 610us/sample - loss: 0.0119 - acc: 0.9961\n",
      "Epoch 8/10\n",
      "60000/60000 [==============================] - 38s 637us/sample - loss: 0.0112 - acc: 0.9961\n",
      "Epoch 9/10\n",
      "60000/60000 [==============================] - 40s 665us/sample - loss: 0.0082 - acc: 0.9972 - loss:  - ETA: 1s - loss: \n",
      "Epoch 10/10\n",
      "60000/60000 [==============================] - 44s 726us/sample - loss: 0.0064 - acc: 0.9976\n",
      "10000/10000 [==============================] - 2s 182us/sample - loss: 0.0381 - acc: 0.9912\n",
      "0.9912\n"
     ]
    }
   ],
   "source": [
    "model = tf.keras.models.Sequential([\n",
    "  tf.keras.layers.Conv2D(32, (3,3), activation='relu', input_shape=(28, 28, 1)),\n",
    "  tf.keras.layers.MaxPooling2D(2, 2),\n",
    "  tf.keras.layers.Conv2D(32, (3,3), activation='relu'),\n",
    "  tf.keras.layers.MaxPooling2D(2, 2),\n",
    "  tf.keras.layers.Flatten(),\n",
    "  tf.keras.layers.Dense(128, activation='relu'),\n",
    "  tf.keras.layers.Dense(10, activation='softmax')\n",
    "])\n",
    "model.compile(optimizer='adam', loss='sparse_categorical_crossentropy', metrics=['accuracy'])\n",
    "model.fit(training_images, training_labels, epochs=10)\n",
    "test_loss, test_acc = model.evaluate(test_images, test_labels)\n",
    "print(test_acc)"
   ]
  },
  {
   "cell_type": "code",
   "execution_count": 12,
   "metadata": {},
   "outputs": [
    {
     "name": "stdout",
     "output_type": "stream",
     "text": [
      "Epoch 1/10\n",
      "59968/60000 [============================>.] - ETA: 0s - loss: 0.0066 - acc: 0.9979\n",
      "Reached 99% accuracy so cancelling training!\n",
      "60000/60000 [==============================] - 39s 642us/sample - loss: 0.0066 - acc: 0.9979\n",
      "10000/10000 [==============================] - 2s 185us/sample - loss: 0.0359 - acc: 0.9910\n",
      "0.991\n"
     ]
    }
   ],
   "source": [
    "class myCallback(tf.keras.callbacks.Callback):\n",
    "  def on_epoch_end(self, epoch, logs={}):\n",
    "    if(logs.get('loss') < 0.01):\n",
    "      print(\"\\nReached 99% accuracy so cancelling training!\")\n",
    "      self.model.stop_training = True\n",
    "        \n",
    "callbacks = myCallback()\n",
    "model.fit(training_images, training_labels, epochs=10, callbacks = [callbacks])\n",
    "test_loss, test_acc = model.evaluate(test_images, test_labels)\n",
    "print(test_acc)"
   ]
  },
  {
   "cell_type": "code",
   "execution_count": null,
   "metadata": {},
   "outputs": [],
   "source": []
  }
 ],
 "metadata": {
  "kernelspec": {
   "display_name": "Python 3",
   "language": "python",
   "name": "python3"
  },
  "language_info": {
   "codemirror_mode": {
    "name": "ipython",
    "version": 3
   },
   "file_extension": ".py",
   "mimetype": "text/x-python",
   "name": "python",
   "nbconvert_exporter": "python",
   "pygments_lexer": "ipython3",
   "version": "3.7.1"
  }
 },
 "nbformat": 4,
 "nbformat_minor": 2
}
